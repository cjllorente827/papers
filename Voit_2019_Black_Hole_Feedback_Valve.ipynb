{
 "cells": [
  {
   "cell_type": "markdown",
   "metadata": {},
   "source": [
    "# Notes on Voit et al 2019 A Black-Hole Feedback Valve in Massive Galaxies\n",
    "\n",
    "## Notes from Abstract: \n",
    "\n",
    "AGN release enough energy to inhibit cooling of hot gas, preventing it from condensing into stars. But energy arguments alone do not account for the effectiveness of quenching in high-mass galaxies. Optical observations show quenching is more closely related to a galaxy's central stellar velocity dispersion than anything else. \n",
    "\n",
    "This paper shows that high central velocity dispersion maximizes the efficacy of AGN feedback.\n",
    "\n",
    "To remain quenched, a galaxy must continually sweep out the gas ejected from its aging stars. Supernova heating can do this, as long as the AGN reduces the gas pressure of the CGM. \n",
    "\n",
    "CGM pressure acts as the control knob on a valve that regulates AGN feedback and the feedback power self-adjusts so that it suffices to lift the CGM out of the galaxy's potential well. Supernova heating then drives a galactic outflow that remains homogenous for large enough velocity dispersion. \n",
    "\n",
    "Feedback in galaxies with a lower velocity dispersion tends to result in convective circulation and accumulation of multiphase gas within the galaxy."
   ]
  },
  {
   "cell_type": "markdown",
   "metadata": {},
   "source": [
    "## Notes from the Introduction:\n",
    "\n",
    "Three different gas sources must be disrupted in order to prevent star formation from starting up again.\n",
    "1) Cold streams: cold gas coming into the galaxy from dark matter filaments. \n",
    "   - Models of galaxy evolution contend that quiescent central galaxies have hot halos that disrupt cold streams and that quiescent central galaxies orbiting the central one cannot access cold streams due to their displacement from the center. \n",
    "   \n",
    "2) Cooling flows: Radiative cooling of dense gas inside the halo supplies the galaxy. \n",
    "    - Models contend that accreting cold gas onto the central SMBH releases enough energy to offset radiative losses. \n",
    "    \n",
    "3) Stellar Mass loss: Dying stars shed surplus gas. \n",
    "    - Supernova heating can push this gas outside the galaxy, but CGM pressure limits the ability to do so. CGM confining pressure determines outflow gas density and radiative losses.\n",
    "    \n",
    "## Questions: \n",
    "What is a \"cooling catastrophe\"?\n",
    "\n"
   ]
  },
  {
   "cell_type": "markdown",
   "metadata": {},
   "source": [
    "# Isothermal Hydrostatic Galaxy Model\n",
    "\n",
    "Approximation is valid for galaxies with a velocity field that is sufficiently subsonic.\n"
   ]
  },
  {
   "cell_type": "code",
   "execution_count": null,
   "metadata": {},
   "outputs": [],
   "source": []
  }
 ],
 "metadata": {
  "kernelspec": {
   "display_name": "Python 3",
   "language": "python",
   "name": "python3"
  },
  "language_info": {
   "codemirror_mode": {
    "name": "ipython",
    "version": 3
   },
   "file_extension": ".py",
   "mimetype": "text/x-python",
   "name": "python",
   "nbconvert_exporter": "python",
   "pygments_lexer": "ipython3",
   "version": "3.7.6"
  }
 },
 "nbformat": 4,
 "nbformat_minor": 4
}
