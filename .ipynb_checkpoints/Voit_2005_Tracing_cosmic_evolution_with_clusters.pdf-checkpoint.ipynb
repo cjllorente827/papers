{
 "cells": [
  {
   "cell_type": "markdown",
   "metadata": {},
   "source": [
    "# Notes on <i>Tracing cosmic evolution with clusters of galaxies<i> by Mark Voit (2005)\n",
    "    \n",
    "    \n",
    "Galaxy clusters are the loargest objects that have had time to collapse under gravity. \n",
    "    \n",
    "Two features of clusters make them uniquely useful tracers of cosmic evolution.\n",
    "    - They are the biggest structures who's masses can be reliably measured\n",
    "    - Clusters contain all their gaseous matter since their potential wells are so deep.\n",
    "    \n",
    "The purpose of this article is to review a theoretical understanding of the dark matter and baryonic component of clusters, provide a context for interpreting new cluster observations from x-ray observations, large optical surveys, and cluster-induced distortions in the spectrum of the cosmic microwave background. \n",
    "    \n",
    "According to the <i>concordance model</i> the geometry of the observable universe is indistinguishable from a flat geometry, i.e. total energy density is close to the critical density required for a closed universe. \n",
    "\n",
    "According to virial theorem, the mass of a spherical, isolated cluster (with particles that have a Gaussian velocity distribution with dispersion $\\sigma$) is \n",
    "    \n",
    "$$\n",
    "M = \\frac{3 \\sigma^2 r_G }{G}\n",
    "$$\n",
    "    \n",
    "    \n",
    "The rate at which the ICM radiates energy can be expressed in terms of a cooling function $\\Lambda (T)$. Since cooling processes all involve electrons colliding with ions, cooling functions are defined as\n",
    "$$\n",
    "\\Lambda (T) = n_e n_{ion} \\tilde\\Lambda (T) \\sim n^2 \\tilde\\Lambda (T)\n",
    "$$\n",
    "    \n",
    "where $\\tilde\\Lambda$ is the cooling luminosity per unit volume. \"Cooling goes as number density squared\""
   ]
  },
  {
   "cell_type": "code",
   "execution_count": null,
   "metadata": {},
   "outputs": [],
   "source": []
  }
 ],
 "metadata": {
  "kernelspec": {
   "display_name": "Python 3",
   "language": "python",
   "name": "python3"
  },
  "language_info": {
   "codemirror_mode": {
    "name": "ipython",
    "version": 3
   },
   "file_extension": ".py",
   "mimetype": "text/x-python",
   "name": "python",
   "nbconvert_exporter": "python",
   "pygments_lexer": "ipython3",
   "version": "3.7.6"
  }
 },
 "nbformat": 4,
 "nbformat_minor": 4
}
