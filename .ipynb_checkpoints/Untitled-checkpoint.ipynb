{
 "cells": [
  {
   "cell_type": "markdown",
   "metadata": {},
   "source": [
    "# Notes on <i>Ejective and preventative: the IllustrisTNG black hole feedback and its effects on the thermodynamics of the gas within and around galaxies</i> Zinger et al 2020\n",
    "\n",
    "\n",
    "SMBHs inject lots of energy in to the surrounding gas. Primary finding seems to be how this energy injection changes the thermodynamic properties of the non-star forming gas both inside and outside the galaxy. "
   ]
  },
  {
   "cell_type": "markdown",
   "metadata": {},
   "source": [
    "# Energy injection mechanisms\n",
    "\n",
    "Zinger et al account for two modes of energy injection\n",
    " - Thermal energy injection at high accretion\n",
    " - Kinetic energy injection at low accretion with a radiatively inefficient accretion disk\n",
    " \n",
    "The feedback energy injected by each mode is\n",
    "$$\n",
    "\\dot E_{high} = \\epsilon_{high} \\dot M _{BH} c^2 \\quad\\quad\\quad\\quad \\epsilon_{high} = 0.02\n",
    "$$\n",
    "\n",
    "This energy is injected continuously as thermal energy.\n",
    "\n",
    "$$\n",
    "\\dot E_{low} = \\epsilon_{low} \\dot M _{BH} c^2 \\quad\\quad\\quad\\quad \\epsilon_{low} = 0.2\n",
    "$$\n",
    "\n",
    "This energy is injected as a momentum boost to the gas in the feedback region in a series of discrete ijection events which occurs once accumulated energy has exceeded a threshold. The direction of the momentum kick is chosen randomly, thus it is isotropic when averaged over many events and time-averaged momentum is conserved.\n",
    "\n",
    "# Determining feedback mode\n",
    "\n",
    "The feedback mode is determined by the ratio of the accretion rate onto the black hole to the Eddington accretion rate. The AGN feedback is in thermal mode when the ratio is above a threshold $\\chi$\n",
    "$$\n",
    "f_{Edd} \\equiv \\frac{\\dot M_{BH}}{\\dot M_{Edd}} \\geq \\chi \n",
    "$$\n",
    "\n",
    "$$\n",
    "\\chi = \\min\\left[ 0.002\\left( \\frac{M_{BH}}{10^8 M_{\\odot}}\\right)^2, 0.1  \\right]\n",
    "$$\n",
    "\n",
    "# Astrophysics fundamentals reminder\n",
    "Eddington Luminosity is the critical luminosity at which radiation pressure balances the force of gravity of a parcel of gas. \n",
    "$$\n",
    "L_{edd} = \\frac{4\\pi GM c}{\\kappa}\n",
    "$$\n",
    "\n",
    "The Eddington accretion rate is a limiting accretion rate beyond which the luminosity of the gas will exceed the Eddington limit, and thus begin to blow away fuel needed for radiation. This results in a negative feedback loop. \n",
    "$$\n",
    "\\dot M_{Edd} = \\frac{4 \\pi G M }{\\epsilon \\kappa c}\n",
    "$$"
   ]
  },
  {
   "cell_type": "code",
   "execution_count": null,
   "metadata": {},
   "outputs": [],
   "source": []
  }
 ],
 "metadata": {
  "kernelspec": {
   "display_name": "Python 3",
   "language": "python",
   "name": "python3"
  },
  "language_info": {
   "codemirror_mode": {
    "name": "ipython",
    "version": 3
   },
   "file_extension": ".py",
   "mimetype": "text/x-python",
   "name": "python",
   "nbconvert_exporter": "python",
   "pygments_lexer": "ipython3",
   "version": "3.7.6"
  }
 },
 "nbformat": 4,
 "nbformat_minor": 4
}
